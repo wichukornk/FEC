{
 "cells": [
  {
   "cell_type": "code",
   "execution_count": 1,
   "metadata": {},
   "outputs": [],
   "source": [
    "import pandas as pd\n",
    "import pandas_gbq\n",
    "import re"
   ]
  },
  {
   "cell_type": "code",
   "execution_count": 7,
   "metadata": {
    "tags": []
   },
   "outputs": [
    {
     "output_type": "execute_result",
     "data": {
      "text/plain": [
       "    0        1        2            3                4  5     6         7  \\\n",
       "0  C:  inetpub  wwwroot  trnsysmodel  F00000000000002  1  P001   B1 unit   \n",
       "1  C:  inetpub  wwwroot  trnsysmodel  F00000000000002  3  P001   3 units   \n",
       "2  C:  inetpub  wwwroot  trnsysmodel  F00000000000003  3  P001    1 unit   \n",
       "3  C:  inetpub  wwwroot  trnsysmodel  F00000000000004  3  P001   5 units   \n",
       "4  C:  inetpub  wwwroot  trnsysmodel  F00000000000004  3  P001   5 units   \n",
       "\n",
       "                            8           9                        10  \n",
       "0    Haadthip Boiler baseline  Datalogger  Energy_input_monthly.xls  \n",
       "1   HAADTHIP Aircomp baseline  Datalogger  Energy_input_monthly.xls  \n",
       "2  KITPAWORN Aircomp baseline  Datalogger  Energy_input_monthly.xls  \n",
       "3    KHONBURI Aircom baseline  Datalogger  Energy_input_monthly.xls  \n",
       "4   KHONBURI Aircomp baseline  Datalogger  Energy_input_monthly.xls  "
      ],
      "text/html": "<div>\n<style scoped>\n    .dataframe tbody tr th:only-of-type {\n        vertical-align: middle;\n    }\n\n    .dataframe tbody tr th {\n        vertical-align: top;\n    }\n\n    .dataframe thead th {\n        text-align: right;\n    }\n</style>\n<table border=\"1\" class=\"dataframe\">\n  <thead>\n    <tr style=\"text-align: right;\">\n      <th></th>\n      <th>0</th>\n      <th>1</th>\n      <th>2</th>\n      <th>3</th>\n      <th>4</th>\n      <th>5</th>\n      <th>6</th>\n      <th>7</th>\n      <th>8</th>\n      <th>9</th>\n      <th>10</th>\n    </tr>\n  </thead>\n  <tbody>\n    <tr>\n      <th>0</th>\n      <td>C:</td>\n      <td>inetpub</td>\n      <td>wwwroot</td>\n      <td>trnsysmodel</td>\n      <td>F00000000000002</td>\n      <td>1</td>\n      <td>P001</td>\n      <td>B1 unit</td>\n      <td>Haadthip Boiler baseline</td>\n      <td>Datalogger</td>\n      <td>Energy_input_monthly.xls</td>\n    </tr>\n    <tr>\n      <th>1</th>\n      <td>C:</td>\n      <td>inetpub</td>\n      <td>wwwroot</td>\n      <td>trnsysmodel</td>\n      <td>F00000000000002</td>\n      <td>3</td>\n      <td>P001</td>\n      <td>3 units</td>\n      <td>HAADTHIP Aircomp baseline</td>\n      <td>Datalogger</td>\n      <td>Energy_input_monthly.xls</td>\n    </tr>\n    <tr>\n      <th>2</th>\n      <td>C:</td>\n      <td>inetpub</td>\n      <td>wwwroot</td>\n      <td>trnsysmodel</td>\n      <td>F00000000000003</td>\n      <td>3</td>\n      <td>P001</td>\n      <td>1 unit</td>\n      <td>KITPAWORN Aircomp baseline</td>\n      <td>Datalogger</td>\n      <td>Energy_input_monthly.xls</td>\n    </tr>\n    <tr>\n      <th>3</th>\n      <td>C:</td>\n      <td>inetpub</td>\n      <td>wwwroot</td>\n      <td>trnsysmodel</td>\n      <td>F00000000000004</td>\n      <td>3</td>\n      <td>P001</td>\n      <td>5 units</td>\n      <td>KHONBURI Aircom baseline</td>\n      <td>Datalogger</td>\n      <td>Energy_input_monthly.xls</td>\n    </tr>\n    <tr>\n      <th>4</th>\n      <td>C:</td>\n      <td>inetpub</td>\n      <td>wwwroot</td>\n      <td>trnsysmodel</td>\n      <td>F00000000000004</td>\n      <td>3</td>\n      <td>P001</td>\n      <td>5 units</td>\n      <td>KHONBURI Aircomp baseline</td>\n      <td>Datalogger</td>\n      <td>Energy_input_monthly.xls</td>\n    </tr>\n  </tbody>\n</table>\n</div>"
     },
     "metadata": {},
     "execution_count": 7
    }
   ],
   "source": [
    "df_pthList=pd.read_csv('list_folder.txt',header=None)\n",
    "a=[]\n",
    "for i in df_pthList.loc[:,0]:\n",
    "    if  re.search('Energy_input.+monthly.xls',i):\n",
    "        if 'P001' in i:\n",
    "            if 'aseline' in i:\n",
    "                b=i.replace('\\\\','/')\n",
    "                a.append(b)\n",
    "#print(a)\n",
    "pth=pd.DataFrame(a)\n",
    "pth=pth.loc[:,0].str.split(pat='/',expand=True)\n",
    "pth.head()"
   ]
  },
  {
   "cell_type": "code",
   "execution_count": 8,
   "metadata": {},
   "outputs": [
    {
     "output_type": "execute_result",
     "data": {
      "text/plain": [
       "           factory system                        name  \\\n",
       "0  F00000000000002      1    Haadthip Boiler baseline   \n",
       "1  F00000000000002      3   HAADTHIP Aircomp baseline   \n",
       "2  F00000000000003      3  KITPAWORN Aircomp baseline   \n",
       "3  F00000000000004      3    KHONBURI Aircom baseline   \n",
       "4  F00000000000004      3   KHONBURI Aircomp baseline   \n",
       "\n",
       "                                                link  \n",
       "0  http://54.254.220.213/trnsysmodel/F00000000000...  \n",
       "1  http://54.254.220.213/trnsysmodel/F00000000000...  \n",
       "2  http://54.254.220.213/trnsysmodel/F00000000000...  \n",
       "3  http://54.254.220.213/trnsysmodel/F00000000000...  \n",
       "4  http://54.254.220.213/trnsysmodel/F00000000000...  "
      ],
      "text/html": "<div>\n<style scoped>\n    .dataframe tbody tr th:only-of-type {\n        vertical-align: middle;\n    }\n\n    .dataframe tbody tr th {\n        vertical-align: top;\n    }\n\n    .dataframe thead th {\n        text-align: right;\n    }\n</style>\n<table border=\"1\" class=\"dataframe\">\n  <thead>\n    <tr style=\"text-align: right;\">\n      <th></th>\n      <th>factory</th>\n      <th>system</th>\n      <th>name</th>\n      <th>link</th>\n    </tr>\n  </thead>\n  <tbody>\n    <tr>\n      <th>0</th>\n      <td>F00000000000002</td>\n      <td>1</td>\n      <td>Haadthip Boiler baseline</td>\n      <td>http://54.254.220.213/trnsysmodel/F00000000000...</td>\n    </tr>\n    <tr>\n      <th>1</th>\n      <td>F00000000000002</td>\n      <td>3</td>\n      <td>HAADTHIP Aircomp baseline</td>\n      <td>http://54.254.220.213/trnsysmodel/F00000000000...</td>\n    </tr>\n    <tr>\n      <th>2</th>\n      <td>F00000000000003</td>\n      <td>3</td>\n      <td>KITPAWORN Aircomp baseline</td>\n      <td>http://54.254.220.213/trnsysmodel/F00000000000...</td>\n    </tr>\n    <tr>\n      <th>3</th>\n      <td>F00000000000004</td>\n      <td>3</td>\n      <td>KHONBURI Aircom baseline</td>\n      <td>http://54.254.220.213/trnsysmodel/F00000000000...</td>\n    </tr>\n    <tr>\n      <th>4</th>\n      <td>F00000000000004</td>\n      <td>3</td>\n      <td>KHONBURI Aircomp baseline</td>\n      <td>http://54.254.220.213/trnsysmodel/F00000000000...</td>\n    </tr>\n  </tbody>\n</table>\n</div>"
     },
     "metadata": {},
     "execution_count": 8
    }
   ],
   "source": [
    "df_getData=pd.DataFrame()\n",
    "df_getData['factory']=pth.loc[:,4]\n",
    "df_getData['system']=pth.loc[:,5]\n",
    "df_getData['name']=pth.loc[:,8]\n",
    "df_getData['link']=\"http://54.254.220.213/trnsysmodel\"\n",
    "for i in range(7):\n",
    "    df_getData['link']=df_getData['link']+\"/\"+pth.loc[:,i+4].str.replace(' ','%20')\n",
    "df_getData.head()"
   ]
  },
  {
   "cell_type": "code",
   "execution_count": 9,
   "metadata": {},
   "outputs": [
    {
     "output_type": "stream",
     "name": "stdout",
     "text": [
      "F00000000000010 1\n",
      "F00000000000011 2\n",
      "F00000000000011 2\n",
      "F00000000000014 1\n",
      "F00000000000017 1\n",
      "F00000000000021 2\n",
      "F00000000000021 2\n",
      "F00000000000021 2\n",
      "F00000000000021 2\n",
      "F00000000000021 3\n",
      "F00000000000025 1\n",
      "F00000000000027 1\n",
      "F00000000000029 3\n",
      "F00000000000034 1\n"
     ]
    }
   ],
   "source": [
    "def colToRow(df_temColData,factory,system,name):\n",
    "    df_tod2=pd.DataFrame(columns=['no','Period','value'])\n",
    "    month=df_temColData.loc[:,'Period']\n",
    "    for k in range(df_temColData.shape[1]-1):\n",
    "        temp=pd.DataFrame(month)\n",
    "        temp['value']=df_temColData.iloc[:,k+1]\n",
    "        temp['no']=k+1\n",
    "        df_tod2=df_tod2.append(temp)\n",
    "    df_tod2['factory']=factory\n",
    "    df_tod2['system']=system\n",
    "    df_tod2['name']=name\n",
    "    return df_tod2.loc[:,['factory','system','name','no','Period','value']]\n",
    "\n",
    "df=pd.DataFrame(columns=['factory','system','name','no','Period','value'])\n",
    "for i in df_getData.index:\n",
    "    try:\n",
    "        df_temColData=pd.read_csv(df_getData.loc[i,'link'],sep='\\t',skiprows=1,nrows=12)\n",
    "        df_temColData=df_temColData.dropna(axis=1)\n",
    "        df_tod=colToRow(df_temColData,df_getData.loc[i,'factory'],df_getData.loc[i,'system'],df_getData.loc[i,'name'])\n",
    "        df=df.append(df_tod)\n",
    "        #print(df_getData.loc[i,'system'],df_temColData.shape,df.shape)\n",
    "    except:\n",
    "        print(df_getData.loc[i,'factory'],df_getData.loc[i,'system'])"
   ]
  },
  {
   "cell_type": "code",
   "execution_count": 11,
   "metadata": {},
   "outputs": [
    {
     "output_type": "execute_result",
     "data": {
      "text/plain": [
       "Compressor    1644\n",
       "Chiller        984\n",
       "Boiler         324\n",
       "Name: system, dtype: int64"
      ]
     },
     "metadata": {},
     "execution_count": 11
    }
   ],
   "source": [
    "df['system']=df['system'].map({'1':'Boiler','2':'Chiller','3':'Compressor'})\n",
    "df['system'].value_counts()"
   ]
  },
  {
   "cell_type": "code",
   "execution_count": 12,
   "metadata": {},
   "outputs": [
    {
     "output_type": "execute_result",
     "data": {
      "text/plain": [
       "                         factory  system                      name no  \\\n",
       "0  บริษัท หาดทิพย์ จำกัด (มหาชน)  Boiler  Haadthip Boiler baseline  1   \n",
       "1  บริษัท หาดทิพย์ จำกัด (มหาชน)  Boiler  Haadthip Boiler baseline  1   \n",
       "2  บริษัท หาดทิพย์ จำกัด (มหาชน)  Boiler  Haadthip Boiler baseline  1   \n",
       "3  บริษัท หาดทิพย์ จำกัด (มหาชน)  Boiler  Haadthip Boiler baseline  1   \n",
       "4  บริษัท หาดทิพย์ จำกัด (มหาชน)  Boiler  Haadthip Boiler baseline  1   \n",
       "\n",
       "      Period         value  \n",
       "0  January    3.733150e+09  \n",
       "1  February   3.370747e+09  \n",
       "2  March      3.728611e+09  \n",
       "3  April      3.603879e+09  \n",
       "4  May        3.719391e+09  "
      ],
      "text/html": "<div>\n<style scoped>\n    .dataframe tbody tr th:only-of-type {\n        vertical-align: middle;\n    }\n\n    .dataframe tbody tr th {\n        vertical-align: top;\n    }\n\n    .dataframe thead th {\n        text-align: right;\n    }\n</style>\n<table border=\"1\" class=\"dataframe\">\n  <thead>\n    <tr style=\"text-align: right;\">\n      <th></th>\n      <th>factory</th>\n      <th>system</th>\n      <th>name</th>\n      <th>no</th>\n      <th>Period</th>\n      <th>value</th>\n    </tr>\n  </thead>\n  <tbody>\n    <tr>\n      <th>0</th>\n      <td>บริษัท หาดทิพย์ จำกัด (มหาชน)</td>\n      <td>Boiler</td>\n      <td>Haadthip Boiler baseline</td>\n      <td>1</td>\n      <td>January</td>\n      <td>3.733150e+09</td>\n    </tr>\n    <tr>\n      <th>1</th>\n      <td>บริษัท หาดทิพย์ จำกัด (มหาชน)</td>\n      <td>Boiler</td>\n      <td>Haadthip Boiler baseline</td>\n      <td>1</td>\n      <td>February</td>\n      <td>3.370747e+09</td>\n    </tr>\n    <tr>\n      <th>2</th>\n      <td>บริษัท หาดทิพย์ จำกัด (มหาชน)</td>\n      <td>Boiler</td>\n      <td>Haadthip Boiler baseline</td>\n      <td>1</td>\n      <td>March</td>\n      <td>3.728611e+09</td>\n    </tr>\n    <tr>\n      <th>3</th>\n      <td>บริษัท หาดทิพย์ จำกัด (มหาชน)</td>\n      <td>Boiler</td>\n      <td>Haadthip Boiler baseline</td>\n      <td>1</td>\n      <td>April</td>\n      <td>3.603879e+09</td>\n    </tr>\n    <tr>\n      <th>4</th>\n      <td>บริษัท หาดทิพย์ จำกัด (มหาชน)</td>\n      <td>Boiler</td>\n      <td>Haadthip Boiler baseline</td>\n      <td>1</td>\n      <td>May</td>\n      <td>3.719391e+09</td>\n    </tr>\n  </tbody>\n</table>\n</div>"
     },
     "metadata": {},
     "execution_count": 12
    }
   ],
   "source": [
    "df_factoryID=pd.read_csv(\"factoryID.txt\",header=None)\n",
    "df_factoryID[0]=df_factoryID[0].str.replace(\"<option value=\\\"\",\"\")\n",
    "df_factoryID[0]=df_factoryID[0].str.replace(\"</option>\",\"\")\n",
    "df_factoryID[0]=df_factoryID[0].str.replace(\"\\\">\",\",\")\n",
    "df_factoryID=df_factoryID[0].str.split(pat=\",\",expand=True)\n",
    "df['factory']=df['factory'].map(dict(zip(df_factoryID[0],df_factoryID[1])))\n",
    "df.head()"
   ]
  },
  {
   "source": [
    "## Debug ##"
   ],
   "cell_type": "markdown",
   "metadata": {}
  },
  {
   "cell_type": "code",
   "execution_count": 13,
   "metadata": {},
   "outputs": [
    {
     "output_type": "execute_result",
     "data": {
      "text/plain": [
       "            factory system                                name  \\\n",
       "62  F00000000000023      2  Winchance Chiller Aircool baseline   \n",
       "63  F00000000000023      2  Winchance Chiller Aircool baseline   \n",
       "64  F00000000000023      3             Winsand Aircom Baseline   \n",
       "\n",
       "                                                 link  \n",
       "62  http://54.254.220.213/trnsysmodel/F00000000000...  \n",
       "63  http://54.254.220.213/trnsysmodel/F00000000000...  \n",
       "64  http://54.254.220.213/trnsysmodel/F00000000000...  "
      ],
      "text/html": "<div>\n<style scoped>\n    .dataframe tbody tr th:only-of-type {\n        vertical-align: middle;\n    }\n\n    .dataframe tbody tr th {\n        vertical-align: top;\n    }\n\n    .dataframe thead th {\n        text-align: right;\n    }\n</style>\n<table border=\"1\" class=\"dataframe\">\n  <thead>\n    <tr style=\"text-align: right;\">\n      <th></th>\n      <th>factory</th>\n      <th>system</th>\n      <th>name</th>\n      <th>link</th>\n    </tr>\n  </thead>\n  <tbody>\n    <tr>\n      <th>62</th>\n      <td>F00000000000023</td>\n      <td>2</td>\n      <td>Winchance Chiller Aircool baseline</td>\n      <td>http://54.254.220.213/trnsysmodel/F00000000000...</td>\n    </tr>\n    <tr>\n      <th>63</th>\n      <td>F00000000000023</td>\n      <td>2</td>\n      <td>Winchance Chiller Aircool baseline</td>\n      <td>http://54.254.220.213/trnsysmodel/F00000000000...</td>\n    </tr>\n    <tr>\n      <th>64</th>\n      <td>F00000000000023</td>\n      <td>3</td>\n      <td>Winsand Aircom Baseline</td>\n      <td>http://54.254.220.213/trnsysmodel/F00000000000...</td>\n    </tr>\n  </tbody>\n</table>\n</div>"
     },
     "metadata": {},
     "execution_count": 13
    }
   ],
   "source": [
    "df_getData.loc[(df_getData['factory']==\"F00000000000023\"),:]"
   ]
  },
  {
   "cell_type": "code",
   "execution_count": 30,
   "metadata": {},
   "outputs": [],
   "source": [
    "test=df.loc[(df['factory']==\"บริษัท วินแชนซ์ ฟู้ดส์ จํากัด\")&(df['system']==\"Chiller\"),:]"
   ]
  },
  {
   "cell_type": "code",
   "execution_count": 31,
   "metadata": {},
   "outputs": [],
   "source": [
    "test.to_csv(\"test.csv\")"
   ]
  },
  {
   "source": [
    "# Upload to GCP #"
   ],
   "cell_type": "markdown",
   "metadata": {}
  },
  {
   "cell_type": "code",
   "execution_count": 15,
   "metadata": {},
   "outputs": [
    {
     "output_type": "stream",
     "name": "stderr",
     "text": [
      "1it [00:08,  8.84s/it]\n"
     ]
    }
   ],
   "source": [
    "df.to_gbq(destination_table='FEC.energy_input_monthly',project_id='introcloud01',if_exists='replace')"
   ]
  }
 ],
 "metadata": {
  "kernelspec": {
   "display_name": "Python 3",
   "language": "python",
   "name": "python3"
  },
  "language_info": {
   "codemirror_mode": {
    "name": "ipython",
    "version": 3
   },
   "file_extension": ".py",
   "mimetype": "text/x-python",
   "name": "python",
   "nbconvert_exporter": "python",
   "pygments_lexer": "ipython3",
   "version": "3.8.5-final"
  }
 },
 "nbformat": 4,
 "nbformat_minor": 4
}