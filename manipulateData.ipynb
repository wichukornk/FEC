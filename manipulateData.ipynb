{
 "metadata": {
  "language_info": {
   "codemirror_mode": {
    "name": "ipython",
    "version": 3
   },
   "file_extension": ".py",
   "mimetype": "text/x-python",
   "name": "python",
   "nbconvert_exporter": "python",
   "pygments_lexer": "ipython3",
   "version": "3.8.5-final"
  },
  "orig_nbformat": 2,
  "kernelspec": {
   "name": "python3",
   "display_name": "Python 3"
  }
 },
 "nbformat": 4,
 "nbformat_minor": 2,
 "cells": [
  {
   "cell_type": "code",
   "execution_count": null,
   "metadata": {},
   "outputs": [],
   "source": [
    "import pandas as pd"
   ]
  },
  {
   "cell_type": "code",
   "execution_count": null,
   "metadata": {},
   "outputs": [],
   "source": [
    "df_pthList=pd.read_csv('list_folder.txt',header=None)"
   ]
  },
  {
   "cell_type": "code",
   "execution_count": 40,
   "metadata": {
    "tags": []
   },
   "outputs": [
    {
     "output_type": "execute_result",
     "data": {
      "text/plain": [
       "    0        1        2            3                4  5     6  \\\n",
       "0  C:  inetpub  wwwroot  trnsysmodel  F00000000000001  1  P001   \n",
       "1  C:  inetpub  wwwroot  trnsysmodel  F00000000000001  1  P001   \n",
       "2  C:  inetpub  wwwroot  trnsysmodel  F00000000000001  1  P001   \n",
       "3  C:  inetpub  wwwroot  trnsysmodel  F00000000000001  1  P001   \n",
       "4  C:  inetpub  wwwroot  trnsysmodel  F00000000000001  1  P001   \n",
       "\n",
       "                    7          8           9                        10  \n",
       "0  %209%20%20%20units  9%20units  Datalogger  Energy_input_monthly.xls  \n",
       "1            1%20unit   1%20unit  Datalogger  Energy_input_monthly.xls  \n",
       "2            1%20unit         b2  Datalogger  Energy_input_monthly.xls  \n",
       "3            1%20unit         b8  Datalogger  Energy_input_monthly.xls  \n",
       "4            1%20unit         bb  Datalogger  Energy_input_monthly.xls  "
      ],
      "text/html": "<div>\n<style scoped>\n    .dataframe tbody tr th:only-of-type {\n        vertical-align: middle;\n    }\n\n    .dataframe tbody tr th {\n        vertical-align: top;\n    }\n\n    .dataframe thead th {\n        text-align: right;\n    }\n</style>\n<table border=\"1\" class=\"dataframe\">\n  <thead>\n    <tr style=\"text-align: right;\">\n      <th></th>\n      <th>0</th>\n      <th>1</th>\n      <th>2</th>\n      <th>3</th>\n      <th>4</th>\n      <th>5</th>\n      <th>6</th>\n      <th>7</th>\n      <th>8</th>\n      <th>9</th>\n      <th>10</th>\n    </tr>\n  </thead>\n  <tbody>\n    <tr>\n      <th>0</th>\n      <td>C:</td>\n      <td>inetpub</td>\n      <td>wwwroot</td>\n      <td>trnsysmodel</td>\n      <td>F00000000000001</td>\n      <td>1</td>\n      <td>P001</td>\n      <td>%209%20%20%20units</td>\n      <td>9%20units</td>\n      <td>Datalogger</td>\n      <td>Energy_input_monthly.xls</td>\n    </tr>\n    <tr>\n      <th>1</th>\n      <td>C:</td>\n      <td>inetpub</td>\n      <td>wwwroot</td>\n      <td>trnsysmodel</td>\n      <td>F00000000000001</td>\n      <td>1</td>\n      <td>P001</td>\n      <td>1%20unit</td>\n      <td>1%20unit</td>\n      <td>Datalogger</td>\n      <td>Energy_input_monthly.xls</td>\n    </tr>\n    <tr>\n      <th>2</th>\n      <td>C:</td>\n      <td>inetpub</td>\n      <td>wwwroot</td>\n      <td>trnsysmodel</td>\n      <td>F00000000000001</td>\n      <td>1</td>\n      <td>P001</td>\n      <td>1%20unit</td>\n      <td>b2</td>\n      <td>Datalogger</td>\n      <td>Energy_input_monthly.xls</td>\n    </tr>\n    <tr>\n      <th>3</th>\n      <td>C:</td>\n      <td>inetpub</td>\n      <td>wwwroot</td>\n      <td>trnsysmodel</td>\n      <td>F00000000000001</td>\n      <td>1</td>\n      <td>P001</td>\n      <td>1%20unit</td>\n      <td>b8</td>\n      <td>Datalogger</td>\n      <td>Energy_input_monthly.xls</td>\n    </tr>\n    <tr>\n      <th>4</th>\n      <td>C:</td>\n      <td>inetpub</td>\n      <td>wwwroot</td>\n      <td>trnsysmodel</td>\n      <td>F00000000000001</td>\n      <td>1</td>\n      <td>P001</td>\n      <td>1%20unit</td>\n      <td>bb</td>\n      <td>Datalogger</td>\n      <td>Energy_input_monthly.xls</td>\n    </tr>\n  </tbody>\n</table>\n</div>"
     },
     "metadata": {},
     "execution_count": 40
    }
   ],
   "source": [
    "a=[]\n",
    "for i in df_pthList.loc[:,0]:\n",
    "    if 'Energy_input_monthly.xls' in i:\n",
    "        if 'P001' in i:\n",
    "            #print(i.replace(' ','%20').replace('\\\\','/'))\n",
    "            b=i.replace(' ','%20').replace('\\\\','/')\n",
    "            a.append(b)\n",
    "#print(a)\n",
    "pth=pd.DataFrame(a)\n",
    "pth=pth.loc[:,0].str.split(pat='/',expand=True)\n",
    "pth.head()"
   ]
  },
  {
   "cell_type": "code",
   "execution_count": 42,
   "metadata": {},
   "outputs": [
    {
     "output_type": "execute_result",
     "data": {
      "text/plain": [
       "           factory system       name  \\\n",
       "0  F00000000000001      1  9%20units   \n",
       "1  F00000000000001      1   1%20unit   \n",
       "2  F00000000000001      1         b2   \n",
       "3  F00000000000001      1         b8   \n",
       "4  F00000000000001      1         bb   \n",
       "\n",
       "                                                link  \n",
       "0  http://54.254.217.109/trnsysmodel/F00000000000...  \n",
       "1  http://54.254.217.109/trnsysmodel/F00000000000...  \n",
       "2  http://54.254.217.109/trnsysmodel/F00000000000...  \n",
       "3  http://54.254.217.109/trnsysmodel/F00000000000...  \n",
       "4  http://54.254.217.109/trnsysmodel/F00000000000...  "
      ],
      "text/html": "<div>\n<style scoped>\n    .dataframe tbody tr th:only-of-type {\n        vertical-align: middle;\n    }\n\n    .dataframe tbody tr th {\n        vertical-align: top;\n    }\n\n    .dataframe thead th {\n        text-align: right;\n    }\n</style>\n<table border=\"1\" class=\"dataframe\">\n  <thead>\n    <tr style=\"text-align: right;\">\n      <th></th>\n      <th>factory</th>\n      <th>system</th>\n      <th>name</th>\n      <th>link</th>\n    </tr>\n  </thead>\n  <tbody>\n    <tr>\n      <th>0</th>\n      <td>F00000000000001</td>\n      <td>1</td>\n      <td>9%20units</td>\n      <td>http://54.254.217.109/trnsysmodel/F00000000000...</td>\n    </tr>\n    <tr>\n      <th>1</th>\n      <td>F00000000000001</td>\n      <td>1</td>\n      <td>1%20unit</td>\n      <td>http://54.254.217.109/trnsysmodel/F00000000000...</td>\n    </tr>\n    <tr>\n      <th>2</th>\n      <td>F00000000000001</td>\n      <td>1</td>\n      <td>b2</td>\n      <td>http://54.254.217.109/trnsysmodel/F00000000000...</td>\n    </tr>\n    <tr>\n      <th>3</th>\n      <td>F00000000000001</td>\n      <td>1</td>\n      <td>b8</td>\n      <td>http://54.254.217.109/trnsysmodel/F00000000000...</td>\n    </tr>\n    <tr>\n      <th>4</th>\n      <td>F00000000000001</td>\n      <td>1</td>\n      <td>bb</td>\n      <td>http://54.254.217.109/trnsysmodel/F00000000000...</td>\n    </tr>\n  </tbody>\n</table>\n</div>"
     },
     "metadata": {},
     "execution_count": 42
    }
   ],
   "source": [
    "df_getData=pd.DataFrame()\n",
    "df_getData['factory']=pth.loc[:,4]\n",
    "df_getData['system']=pth.loc[:,5]\n",
    "df_getData['name']=pth.loc[:,8]\n",
    "df_getData['link']=\"http://54.254.217.109/trnsysmodel\"\n",
    "for i in range(7):\n",
    "    df_getData['link']=df_getData['link']+\"/\"+pth.loc[:,i+4]\n",
    "df_getData.head()"
   ]
  },
  {
   "cell_type": "code",
   "execution_count": 46,
   "metadata": {
    "tags": []
   },
   "outputs": [
    {
     "output_type": "execute_result",
     "data": {
      "text/plain": [
       "      Period  Boiler1                    Boiler2                    \\\n",
       "0  January                 3.353119e+08               3.353119e+08   \n",
       "1  February                3.028613e+08               3.028613e+08   \n",
       "2  March                   3.353078e+08               3.353078e+08   \n",
       "3  April                   3.244874e+08               3.244874e+08   \n",
       "4  May                     3.352994e+08               3.352994e+08   \n",
       "\n",
       "   Boiler3                    Boiler4                    \\\n",
       "0               3.353119e+08               3.353119e+08   \n",
       "1               3.028613e+08               3.028613e+08   \n",
       "2               3.353078e+08               3.353078e+08   \n",
       "3               3.244874e+08               3.244874e+08   \n",
       "4               3.352994e+08               3.352994e+08   \n",
       "\n",
       "   Boiler5                    Boiler6                    \\\n",
       "0               3.353119e+08               3.353119e+08   \n",
       "1               3.028613e+08               3.028613e+08   \n",
       "2               3.353078e+08               3.353078e+08   \n",
       "3               3.244874e+08               3.244874e+08   \n",
       "4               3.352994e+08               3.352994e+08   \n",
       "\n",
       "   Boiler7                    Boiler8                    \\\n",
       "0               3.353119e+08               3.353119e+08   \n",
       "1               3.028613e+08               3.028613e+08   \n",
       "2               3.353078e+08               3.353078e+08   \n",
       "3               3.244874e+08               3.244874e+08   \n",
       "4               3.352994e+08               3.352994e+08   \n",
       "\n",
       "   Boiler9                    \n",
       "0               6.706237e+08  \n",
       "1               6.057226e+08  \n",
       "2               6.706155e+08  \n",
       "3               6.489747e+08  \n",
       "4               6.705988e+08  "
      ],
      "text/html": "<div>\n<style scoped>\n    .dataframe tbody tr th:only-of-type {\n        vertical-align: middle;\n    }\n\n    .dataframe tbody tr th {\n        vertical-align: top;\n    }\n\n    .dataframe thead th {\n        text-align: right;\n    }\n</style>\n<table border=\"1\" class=\"dataframe\">\n  <thead>\n    <tr style=\"text-align: right;\">\n      <th></th>\n      <th>Period</th>\n      <th>Boiler1</th>\n      <th>Boiler2</th>\n      <th>Boiler3</th>\n      <th>Boiler4</th>\n      <th>Boiler5</th>\n      <th>Boiler6</th>\n      <th>Boiler7</th>\n      <th>Boiler8</th>\n      <th>Boiler9</th>\n    </tr>\n  </thead>\n  <tbody>\n    <tr>\n      <th>0</th>\n      <td>January</td>\n      <td>3.353119e+08</td>\n      <td>3.353119e+08</td>\n      <td>3.353119e+08</td>\n      <td>3.353119e+08</td>\n      <td>3.353119e+08</td>\n      <td>3.353119e+08</td>\n      <td>3.353119e+08</td>\n      <td>3.353119e+08</td>\n      <td>6.706237e+08</td>\n    </tr>\n    <tr>\n      <th>1</th>\n      <td>February</td>\n      <td>3.028613e+08</td>\n      <td>3.028613e+08</td>\n      <td>3.028613e+08</td>\n      <td>3.028613e+08</td>\n      <td>3.028613e+08</td>\n      <td>3.028613e+08</td>\n      <td>3.028613e+08</td>\n      <td>3.028613e+08</td>\n      <td>6.057226e+08</td>\n    </tr>\n    <tr>\n      <th>2</th>\n      <td>March</td>\n      <td>3.353078e+08</td>\n      <td>3.353078e+08</td>\n      <td>3.353078e+08</td>\n      <td>3.353078e+08</td>\n      <td>3.353078e+08</td>\n      <td>3.353078e+08</td>\n      <td>3.353078e+08</td>\n      <td>3.353078e+08</td>\n      <td>6.706155e+08</td>\n    </tr>\n    <tr>\n      <th>3</th>\n      <td>April</td>\n      <td>3.244874e+08</td>\n      <td>3.244874e+08</td>\n      <td>3.244874e+08</td>\n      <td>3.244874e+08</td>\n      <td>3.244874e+08</td>\n      <td>3.244874e+08</td>\n      <td>3.244874e+08</td>\n      <td>3.244874e+08</td>\n      <td>6.489747e+08</td>\n    </tr>\n    <tr>\n      <th>4</th>\n      <td>May</td>\n      <td>3.352994e+08</td>\n      <td>3.352994e+08</td>\n      <td>3.352994e+08</td>\n      <td>3.352994e+08</td>\n      <td>3.352994e+08</td>\n      <td>3.352994e+08</td>\n      <td>3.352994e+08</td>\n      <td>3.352994e+08</td>\n      <td>6.705988e+08</td>\n    </tr>\n  </tbody>\n</table>\n</div>"
     },
     "metadata": {},
     "execution_count": 46
    }
   ],
   "source": [
    "df_temColData=pd.read_csv(df_getData.loc[0,'link'],sep='\\t',skiprows=1,nrows=12).dropna(axis=1)\n",
    "df_temColData.head()"
   ]
  },
  {
   "cell_type": "code",
   "execution_count": 73,
   "metadata": {},
   "outputs": [],
   "source": [
    "def colToRow(df_temColData,factory,system,name):\n",
    "    df_tod2=pd.DataFrame(columns=['no','Period','value'])\n",
    "    month=df_temColData.loc[:,'Period']\n",
    "    for k in range(df_temColData.shape[1]-1):\n",
    "        temp=pd.DataFrame(month)\n",
    "        temp['value']=df_temColData.iloc[:,k+1]\n",
    "        temp['no']=k+1\n",
    "        #print(temp.loc[:,['no','Period','value']])\n",
    "        df_tod2=df_tod2.append(temp)\n",
    "    df_tod2['factory']=factory\n",
    "    df_tod2['system']=system\n",
    "    df_tod2['name']=name\n",
    "    return df_tod2.loc[:,['factory','system','name','no','Period','value']]\n",
    "#colToRow(df_temColData,df_getData.loc[0,'factory'],df_getData.loc[0,'system'],df_getData.loc[0,'name'])\n"
   ]
  },
  {
   "cell_type": "code",
   "execution_count": 75,
   "metadata": {},
   "outputs": [
    {
     "output_type": "stream",
     "name": "stdout",
     "text": [
      "(12, 10) (108, 6)\n",
      "(12, 2) (120, 6)\n",
      "(12, 2) (132, 6)\n",
      "(12, 2) (144, 6)\n",
      "(12, 2) (156, 6)\n",
      "(12, 2) (168, 6)\n",
      "(12, 11) (288, 6)\n",
      "(12, 11) (408, 6)\n",
      "(12, 3) (432, 6)\n",
      "(12, 4) (468, 6)\n",
      "(12, 5) (516, 6)\n",
      "(12, 6) (576, 6)\n",
      "(12, 7) (648, 6)\n",
      "(12, 8) (732, 6)\n",
      "(12, 9) (828, 6)\n",
      "15\n",
      "(12, 2) (840, 6)\n",
      "17\n",
      "18\n",
      "(12, 11) (960, 6)\n",
      "(12, 10) (1068, 6)\n",
      "(12, 4) (1104, 6)\n",
      "(12, 2) (1116, 6)\n",
      "(12, 6) (1176, 6)\n",
      "(12, 2) (1188, 6)\n",
      "(12, 2) (1200, 6)\n",
      "(12, 2) (1212, 6)\n",
      "(12, 2) (1224, 6)\n",
      "(12, 2) (1236, 6)\n",
      "(12, 6) (1296, 6)\n",
      "(12, 2) (1308, 6)\n",
      "(12, 3) (1332, 6)\n",
      "(12, 6) (1392, 6)\n",
      "(12, 6) (1452, 6)\n",
      "(12, 2) (1464, 6)\n",
      "(12, 3) (1488, 6)\n",
      "(12, 3) (1512, 6)\n",
      "(12, 3) (1536, 6)\n",
      "(12, 4) (1572, 6)\n",
      "(12, 4) (1608, 6)\n",
      "(12, 5) (1656, 6)\n",
      "(12, 5) (1704, 6)\n",
      "(12, 5) (1752, 6)\n",
      "(12, 2) (1764, 6)\n",
      "(12, 2) (1776, 6)\n",
      "(12, 6) (1836, 6)\n",
      "(12, 4) (1872, 6)\n",
      "(12, 3) (1896, 6)\n",
      "(12, 3) (1920, 6)\n"
     ]
    }
   ],
   "source": [
    "\n",
    "df=pd.DataFrame(columns=['factory','system','name','no','Period','value'])\n",
    "for i in df_getData.index:\n",
    "    try:\n",
    "        df_temColData=pd.read_csv(df_getData.loc[i,'link'],sep='\\t',skiprows=1,nrows=12)\n",
    "        df_temColData=df_temColData.dropna(axis=1)\n",
    "        df_tod=colToRow(df_temColData,df_getData.loc[i,'factory'],df_getData.loc[i,'system'],df_getData.loc[i,'name'])\n",
    "        df=df.append(df_tod)\n",
    "        print(df_temColData.shape,df.shape)\n",
    "    except:\n",
    "        print(i)"
   ]
  }
 ]
}